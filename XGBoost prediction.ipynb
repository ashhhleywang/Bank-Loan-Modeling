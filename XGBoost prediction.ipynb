{
 "cells": [
  {
   "cell_type": "code",
   "execution_count": 3,
   "id": "2b9886ae",
   "metadata": {},
   "outputs": [],
   "source": [
    "import math\n",
    "import os\n",
    "import random\n",
    "from pathlib import Path\n",
    "from collections import defaultdict\n",
    "from itertools import product\n",
    "\n",
    "from graphviz import Digraph\n",
    "\n",
    "import pandas as pd\n",
    "import numpy as np\n",
    "\n",
    "from sklearn import preprocessing\n",
    "from sklearn import metrics\n",
    "from sklearn.model_selection import train_test_split\n",
    "from sklearn.tree import DecisionTreeClassifier\n",
    "from sklearn.ensemble import RandomForestClassifier\n",
    "\n",
    "from xgboost import XGBClassifier\n",
    "\n",
    "import pydotplus\n",
    "from dmba import plotDecisionTree, textDecisionTree\n",
    "\n",
    "import seaborn as sns\n",
    "import matplotlib.pyplot as plt\n",
    "from matplotlib.patches import Ellipse\n",
    "\n",
    "%matplotlib inline"
   ]
  },
  {
   "cell_type": "code",
   "execution_count": 4,
   "id": "a03461e2",
   "metadata": {},
   "outputs": [
    {
     "name": "stderr",
     "output_type": "stream",
     "text": [
      "/var/folders/59/qnw1s_ws12900d7g8gbc8wmc0000gn/T/ipykernel_8470/3104340493.py:3: DtypeWarning: Columns (19,47,55,112,123,124,125,128,129,130,133,139,140,141) have mixed types. Specify dtype option on import or set low_memory=False.\n",
      "  raw_df = pd.read_csv(raw_df_path)\n"
     ]
    }
   ],
   "source": [
    "DATA = Path('.').resolve().parents[1] / 'capstone/project_submission'\n",
    "raw_df_path = DATA / 'train_data.csv'\n",
    "raw_df = pd.read_csv(raw_df_path)\n",
    "criteria_col = (raw_df.isna().sum())/raw_df.shape[0] <= 0\n",
    "df = raw_df[criteria_col.index[criteria_col]]\n",
    "df = df[(df.isnull().sum(axis = 1))/df.shape[1] <= 0]\n",
    "df['status'] = [1 if i == 'Charged Off' else 0 for i in df['loan_status']]\n",
    "df.drop(columns = 'loan_status',inplace = True) # 69 col\n",
    "corr_matrix = df.corr().abs()\n",
    "upper = corr_matrix.where(np.triu(np.ones(corr_matrix.shape),k = 1).astype(bool))\n",
    "to_drop = [col for col in upper.columns if any(upper[col] >= 0.7)]\n",
    "df.drop(df[to_drop],axis = 1,inplace = True)\n",
    "df.drop(columns = ['out_prncp','recoveries'],\n",
    "        inplace = True)\n",
    "df.drop(columns = ['issue_d','verification_status','pymnt_plan','earliest_cr_line','last_credit_pull_d',\n",
    "                   'hardship_flag',\n",
    "                   'sub_grade','addr_state','policy_code'],\n",
    "        inplace = True)"
   ]
  },
  {
   "cell_type": "code",
   "execution_count": 16,
   "id": "9ce3bfa4",
   "metadata": {},
   "outputs": [
    {
     "data": {
      "text/plain": [
       "(1827125, 38)"
      ]
     },
     "execution_count": 16,
     "metadata": {},
     "output_type": "execute_result"
    }
   ],
   "source": [
    "df.shape"
   ]
  },
  {
   "cell_type": "code",
   "execution_count": 24,
   "id": "22f0452c",
   "metadata": {},
   "outputs": [],
   "source": [
    "#df.dtypes"
   ]
  },
  {
   "cell_type": "code",
   "execution_count": 5,
   "id": "091edb89",
   "metadata": {},
   "outputs": [],
   "source": [
    "X = pd.get_dummies(df.loc[:,df.columns != 'status'],drop_first=True)\n",
    "y = df['status']"
   ]
  },
  {
   "cell_type": "code",
   "execution_count": 2,
   "id": "8585e1cd",
   "metadata": {},
   "outputs": [
    {
     "ename": "NameError",
     "evalue": "name 'X' is not defined",
     "output_type": "error",
     "traceback": [
      "\u001b[0;31m---------------------------------------------------------------------------\u001b[0m",
      "\u001b[0;31mNameError\u001b[0m                                 Traceback (most recent call last)",
      "Input \u001b[0;32mIn [2]\u001b[0m, in \u001b[0;36m<cell line: 1>\u001b[0;34m()\u001b[0m\n\u001b[0;32m----> 1\u001b[0m \u001b[43mX\u001b[49m\u001b[38;5;241m.\u001b[39mshape\n",
      "\u001b[0;31mNameError\u001b[0m: name 'X' is not defined"
     ]
    }
   ],
   "source": [
    "X.shape"
   ]
  },
  {
   "cell_type": "code",
   "execution_count": 6,
   "id": "f77eeddb",
   "metadata": {},
   "outputs": [],
   "source": [
    "pd.set_option('display.max_columns', None)"
   ]
  },
  {
   "cell_type": "code",
   "execution_count": 7,
   "id": "25c68014",
   "metadata": {},
   "outputs": [],
   "source": [
    "#X.corr()"
   ]
  },
  {
   "cell_type": "markdown",
   "id": "ff9a9c4f",
   "metadata": {},
   "source": [
    "# logistic"
   ]
  },
  {
   "cell_type": "code",
   "execution_count": 22,
   "id": "adff9bd0",
   "metadata": {},
   "outputs": [
    {
     "data": {
      "text/html": [
       "<table class=\"simpletable\">\n",
       "<caption>Generalized Linear Model Regression Results</caption>\n",
       "<tr>\n",
       "  <th>Dep. Variable:</th>        <td>status</td>      <th>  No. Observations:  </th>   <td>1827125</td>  \n",
       "</tr>\n",
       "<tr>\n",
       "  <th>Model:</th>                  <td>GLM</td>       <th>  Df Residuals:      </th>   <td>1827067</td>  \n",
       "</tr>\n",
       "<tr>\n",
       "  <th>Model Family:</th>        <td>Binomial</td>     <th>  Df Model:          </th>   <td>    57</td>   \n",
       "</tr>\n",
       "<tr>\n",
       "  <th>Link Function:</th>         <td>Logit</td>      <th>  Scale:             </th>  <td>  1.0000</td>  \n",
       "</tr>\n",
       "<tr>\n",
       "  <th>Method:</th>                <td>IRLS</td>       <th>  Log-Likelihood:    </th> <td>-3.1954e+05</td>\n",
       "</tr>\n",
       "<tr>\n",
       "  <th>Date:</th>            <td>Thu, 28 Jul 2022</td> <th>  Deviance:          </th> <td>6.3908e+05</td> \n",
       "</tr>\n",
       "<tr>\n",
       "  <th>Time:</th>                <td>13:21:11</td>     <th>  Pearson chi2:      </th>  <td>3.39e+16</td>  \n",
       "</tr>\n",
       "<tr>\n",
       "  <th>No. Iterations:</th>         <td>20</td>        <th>  Pseudo R-squ. (CS):</th>   <td>0.1591</td>   \n",
       "</tr>\n",
       "<tr>\n",
       "  <th>Covariance Type:</th>     <td>nonrobust</td>    <th>                     </th>      <td> </td>     \n",
       "</tr>\n",
       "</table>\n",
       "<table class=\"simpletable\">\n",
       "<tr>\n",
       "                <td></td>                   <th>coef</th>     <th>std err</th>      <th>z</th>      <th>P>|z|</th>  <th>[0.025</th>    <th>0.975]</th>  \n",
       "</tr>\n",
       "<tr>\n",
       "  <th>const</th>                         <td>   -2.7063</td> <td>    0.229</td> <td>  -11.830</td> <td> 0.000</td> <td>   -3.155</td> <td>   -2.258</td>\n",
       "</tr>\n",
       "<tr>\n",
       "  <th>loan_amnt</th>                     <td> 9.947e-05</td> <td> 5.96e-07</td> <td>  166.970</td> <td> 0.000</td> <td> 9.83e-05</td> <td>    0.000</td>\n",
       "</tr>\n",
       "<tr>\n",
       "  <th>int_rate</th>                      <td>   -0.2447</td> <td>    0.002</td> <td> -109.817</td> <td> 0.000</td> <td>   -0.249</td> <td>   -0.240</td>\n",
       "</tr>\n",
       "<tr>\n",
       "  <th>annual_inc</th>                    <td>-3.854e-06</td> <td> 1.06e-07</td> <td>  -36.419</td> <td> 0.000</td> <td>-4.06e-06</td> <td>-3.65e-06</td>\n",
       "</tr>\n",
       "<tr>\n",
       "  <th>delinq_2yrs</th>                   <td>    0.0811</td> <td>    0.005</td> <td>   16.994</td> <td> 0.000</td> <td>    0.072</td> <td>    0.090</td>\n",
       "</tr>\n",
       "<tr>\n",
       "  <th>open_acc</th>                      <td>   -0.0111</td> <td>    0.001</td> <td>  -12.169</td> <td> 0.000</td> <td>   -0.013</td> <td>   -0.009</td>\n",
       "</tr>\n",
       "<tr>\n",
       "  <th>pub_rec</th>                       <td>    0.3169</td> <td>    0.014</td> <td>   21.859</td> <td> 0.000</td> <td>    0.288</td> <td>    0.345</td>\n",
       "</tr>\n",
       "<tr>\n",
       "  <th>revol_bal</th>                     <td> 2.511e-06</td> <td>  2.2e-07</td> <td>   11.427</td> <td> 0.000</td> <td> 2.08e-06</td> <td> 2.94e-06</td>\n",
       "</tr>\n",
       "<tr>\n",
       "  <th>total_pymnt</th>                   <td>   -0.0001</td> <td> 1.04e-06</td> <td> -112.153</td> <td> 0.000</td> <td>   -0.000</td> <td>   -0.000</td>\n",
       "</tr>\n",
       "<tr>\n",
       "  <th>total_rec_int</th>                 <td> 1.766e-05</td> <td> 3.01e-06</td> <td>    5.865</td> <td> 0.000</td> <td> 1.18e-05</td> <td> 2.36e-05</td>\n",
       "</tr>\n",
       "<tr>\n",
       "  <th>total_rec_late_fee</th>            <td>    0.0201</td> <td>    0.000</td> <td>   77.139</td> <td> 0.000</td> <td>    0.020</td> <td>    0.021</td>\n",
       "</tr>\n",
       "<tr>\n",
       "  <th>last_pymnt_amnt</th>               <td>   -0.0011</td> <td>  1.1e-05</td> <td>  -98.345</td> <td> 0.000</td> <td>   -0.001</td> <td>   -0.001</td>\n",
       "</tr>\n",
       "<tr>\n",
       "  <th>collections_12_mths_ex_med</th>    <td>   -0.0019</td> <td>    0.020</td> <td>   -0.097</td> <td> 0.923</td> <td>   -0.041</td> <td>    0.037</td>\n",
       "</tr>\n",
       "<tr>\n",
       "  <th>acc_now_delinq</th>                <td>    0.3395</td> <td>    0.041</td> <td>    8.288</td> <td> 0.000</td> <td>    0.259</td> <td>    0.420</td>\n",
       "</tr>\n",
       "<tr>\n",
       "  <th>tot_coll_amt</th>                  <td> 3.839e-07</td> <td> 8.89e-07</td> <td>    0.432</td> <td> 0.666</td> <td>-1.36e-06</td> <td> 2.13e-06</td>\n",
       "</tr>\n",
       "<tr>\n",
       "  <th>tot_cur_bal</th>                   <td>-8.506e-07</td> <td>    4e-08</td> <td>  -21.248</td> <td> 0.000</td> <td>-9.29e-07</td> <td>-7.72e-07</td>\n",
       "</tr>\n",
       "<tr>\n",
       "  <th>acc_open_past_24mths</th>          <td>    0.0618</td> <td>    0.001</td> <td>   47.658</td> <td> 0.000</td> <td>    0.059</td> <td>    0.064</td>\n",
       "</tr>\n",
       "<tr>\n",
       "  <th>chargeoff_within_12_mths</th>      <td>    0.0015</td> <td>    0.031</td> <td>    0.048</td> <td> 0.962</td> <td>   -0.058</td> <td>    0.061</td>\n",
       "</tr>\n",
       "<tr>\n",
       "  <th>delinq_amnt</th>                   <td> 1.045e-05</td> <td> 3.65e-06</td> <td>    2.866</td> <td> 0.004</td> <td>  3.3e-06</td> <td> 1.76e-05</td>\n",
       "</tr>\n",
       "<tr>\n",
       "  <th>mo_sin_old_rev_tl_op</th>          <td>   -0.0001</td> <td> 3.79e-05</td> <td>   -3.093</td> <td> 0.002</td> <td>   -0.000</td> <td> -4.3e-05</td>\n",
       "</tr>\n",
       "<tr>\n",
       "  <th>mo_sin_rcnt_rev_tl_op</th>         <td>   -0.0033</td> <td>    0.000</td> <td>  -11.463</td> <td> 0.000</td> <td>   -0.004</td> <td>   -0.003</td>\n",
       "</tr>\n",
       "<tr>\n",
       "  <th>mo_sin_rcnt_tl</th>                <td>   -0.0066</td> <td>    0.001</td> <td>  -11.359</td> <td> 0.000</td> <td>   -0.008</td> <td>   -0.005</td>\n",
       "</tr>\n",
       "<tr>\n",
       "  <th>mort_acc</th>                      <td>    0.0884</td> <td>    0.002</td> <td>   36.316</td> <td> 0.000</td> <td>    0.084</td> <td>    0.093</td>\n",
       "</tr>\n",
       "<tr>\n",
       "  <th>num_accts_ever_120_pd</th>         <td>   -0.0273</td> <td>    0.003</td> <td>  -10.465</td> <td> 0.000</td> <td>   -0.032</td> <td>   -0.022</td>\n",
       "</tr>\n",
       "<tr>\n",
       "  <th>num_actv_bc_tl</th>                <td>    0.0186</td> <td>    0.002</td> <td>   10.049</td> <td> 0.000</td> <td>    0.015</td> <td>    0.022</td>\n",
       "</tr>\n",
       "<tr>\n",
       "  <th>num_il_tl</th>                     <td>    0.0090</td> <td>    0.001</td> <td>   15.624</td> <td> 0.000</td> <td>    0.008</td> <td>    0.010</td>\n",
       "</tr>\n",
       "<tr>\n",
       "  <th>num_tl_90g_dpd_24m</th>            <td>   -0.0272</td> <td>    0.008</td> <td>   -3.262</td> <td> 0.001</td> <td>   -0.044</td> <td>   -0.011</td>\n",
       "</tr>\n",
       "<tr>\n",
       "  <th>pub_rec_bankruptcies</th>          <td>   -0.2150</td> <td>    0.017</td> <td>  -12.900</td> <td> 0.000</td> <td>   -0.248</td> <td>   -0.182</td>\n",
       "</tr>\n",
       "<tr>\n",
       "  <th>tax_liens</th>                     <td>   -0.2018</td> <td>    0.017</td> <td>  -12.131</td> <td> 0.000</td> <td>   -0.234</td> <td>   -0.169</td>\n",
       "</tr>\n",
       "<tr>\n",
       "  <th>total_bal_ex_mort</th>             <td>-3.124e-07</td> <td> 1.14e-07</td> <td>   -2.750</td> <td> 0.006</td> <td>-5.35e-07</td> <td>-8.97e-08</td>\n",
       "</tr>\n",
       "<tr>\n",
       "  <th>term_ 60 months</th>               <td>   -0.2586</td> <td>    0.010</td> <td>  -26.085</td> <td> 0.000</td> <td>   -0.278</td> <td>   -0.239</td>\n",
       "</tr>\n",
       "<tr>\n",
       "  <th>grade_B</th>                       <td>    1.7081</td> <td>    0.018</td> <td>   97.533</td> <td> 0.000</td> <td>    1.674</td> <td>    1.742</td>\n",
       "</tr>\n",
       "<tr>\n",
       "  <th>grade_C</th>                       <td>    3.1482</td> <td>    0.022</td> <td>  143.018</td> <td> 0.000</td> <td>    3.105</td> <td>    3.191</td>\n",
       "</tr>\n",
       "<tr>\n",
       "  <th>grade_D</th>                       <td>    4.5881</td> <td>    0.030</td> <td>  154.092</td> <td> 0.000</td> <td>    4.530</td> <td>    4.646</td>\n",
       "</tr>\n",
       "<tr>\n",
       "  <th>grade_E</th>                       <td>    6.2192</td> <td>    0.038</td> <td>  161.635</td> <td> 0.000</td> <td>    6.144</td> <td>    6.295</td>\n",
       "</tr>\n",
       "<tr>\n",
       "  <th>grade_F</th>                       <td>    7.8126</td> <td>    0.049</td> <td>  159.322</td> <td> 0.000</td> <td>    7.716</td> <td>    7.909</td>\n",
       "</tr>\n",
       "<tr>\n",
       "  <th>grade_G</th>                       <td>    8.7041</td> <td>    0.062</td> <td>  141.203</td> <td> 0.000</td> <td>    8.583</td> <td>    8.825</td>\n",
       "</tr>\n",
       "<tr>\n",
       "  <th>home_ownership_MORTGAGE</th>       <td>    1.0013</td> <td>    0.224</td> <td>    4.462</td> <td> 0.000</td> <td>    0.561</td> <td>    1.441</td>\n",
       "</tr>\n",
       "<tr>\n",
       "  <th>home_ownership_NONE</th>           <td>  -15.3522</td> <td> 1.05e+04</td> <td>   -0.001</td> <td> 0.999</td> <td>-2.05e+04</td> <td> 2.05e+04</td>\n",
       "</tr>\n",
       "<tr>\n",
       "  <th>home_ownership_OWN</th>            <td>    0.9841</td> <td>    0.225</td> <td>    4.382</td> <td> 0.000</td> <td>    0.544</td> <td>    1.424</td>\n",
       "</tr>\n",
       "<tr>\n",
       "  <th>home_ownership_RENT</th>           <td>    1.1599</td> <td>    0.224</td> <td>    5.169</td> <td> 0.000</td> <td>    0.720</td> <td>    1.600</td>\n",
       "</tr>\n",
       "<tr>\n",
       "  <th>purpose_credit_card</th>           <td>    0.3284</td> <td>    0.038</td> <td>    8.620</td> <td> 0.000</td> <td>    0.254</td> <td>    0.403</td>\n",
       "</tr>\n",
       "<tr>\n",
       "  <th>purpose_debt_consolidation</th>    <td>    0.3956</td> <td>    0.038</td> <td>   10.524</td> <td> 0.000</td> <td>    0.322</td> <td>    0.469</td>\n",
       "</tr>\n",
       "<tr>\n",
       "  <th>purpose_educational</th>           <td>  -18.2265</td> <td> 2.04e+04</td> <td>   -0.001</td> <td> 0.999</td> <td>-3.99e+04</td> <td> 3.99e+04</td>\n",
       "</tr>\n",
       "<tr>\n",
       "  <th>purpose_home_improvement</th>      <td>    0.2442</td> <td>    0.040</td> <td>    6.142</td> <td> 0.000</td> <td>    0.166</td> <td>    0.322</td>\n",
       "</tr>\n",
       "<tr>\n",
       "  <th>purpose_house</th>                 <td>   -0.2415</td> <td>    0.058</td> <td>   -4.183</td> <td> 0.000</td> <td>   -0.355</td> <td>   -0.128</td>\n",
       "</tr>\n",
       "<tr>\n",
       "  <th>purpose_major_purchase</th>        <td>    0.1568</td> <td>    0.044</td> <td>    3.593</td> <td> 0.000</td> <td>    0.071</td> <td>    0.242</td>\n",
       "</tr>\n",
       "<tr>\n",
       "  <th>purpose_medical</th>               <td>    0.1735</td> <td>    0.047</td> <td>    3.667</td> <td> 0.000</td> <td>    0.081</td> <td>    0.266</td>\n",
       "</tr>\n",
       "<tr>\n",
       "  <th>purpose_moving</th>                <td>    0.0973</td> <td>    0.053</td> <td>    1.845</td> <td> 0.065</td> <td>   -0.006</td> <td>    0.201</td>\n",
       "</tr>\n",
       "<tr>\n",
       "  <th>purpose_other</th>                 <td>   -0.0424</td> <td>    0.040</td> <td>   -1.071</td> <td> 0.284</td> <td>   -0.120</td> <td>    0.035</td>\n",
       "</tr>\n",
       "<tr>\n",
       "  <th>purpose_renewable_energy</th>      <td>    0.1547</td> <td>    0.127</td> <td>    1.220</td> <td> 0.223</td> <td>   -0.094</td> <td>    0.403</td>\n",
       "</tr>\n",
       "<tr>\n",
       "  <th>purpose_small_business</th>        <td>    0.4538</td> <td>    0.047</td> <td>    9.729</td> <td> 0.000</td> <td>    0.362</td> <td>    0.545</td>\n",
       "</tr>\n",
       "<tr>\n",
       "  <th>purpose_vacation</th>              <td>   -0.1157</td> <td>    0.055</td> <td>   -2.092</td> <td> 0.036</td> <td>   -0.224</td> <td>   -0.007</td>\n",
       "</tr>\n",
       "<tr>\n",
       "  <th>purpose_wedding</th>               <td>    0.3630</td> <td>    0.178</td> <td>    2.040</td> <td> 0.041</td> <td>    0.014</td> <td>    0.712</td>\n",
       "</tr>\n",
       "<tr>\n",
       "  <th>initial_list_status_w</th>         <td>   -0.6181</td> <td>    0.008</td> <td>  -81.175</td> <td> 0.000</td> <td>   -0.633</td> <td>   -0.603</td>\n",
       "</tr>\n",
       "<tr>\n",
       "  <th>application_type_Joint App</th>    <td>   -1.7142</td> <td>    0.021</td> <td>  -81.720</td> <td> 0.000</td> <td>   -1.755</td> <td>   -1.673</td>\n",
       "</tr>\n",
       "<tr>\n",
       "  <th>disbursement_method_DirectPay</th> <td>   -2.6227</td> <td>    0.043</td> <td>  -61.580</td> <td> 0.000</td> <td>   -2.706</td> <td>   -2.539</td>\n",
       "</tr>\n",
       "<tr>\n",
       "  <th>debt_settlement_flag_Y</th>        <td>   13.1144</td> <td>    0.471</td> <td>   27.844</td> <td> 0.000</td> <td>   12.191</td> <td>   14.038</td>\n",
       "</tr>\n",
       "</table>"
      ],
      "text/plain": [
       "<class 'statsmodels.iolib.summary.Summary'>\n",
       "\"\"\"\n",
       "                 Generalized Linear Model Regression Results                  \n",
       "==============================================================================\n",
       "Dep. Variable:                 status   No. Observations:              1827125\n",
       "Model:                            GLM   Df Residuals:                  1827067\n",
       "Model Family:                Binomial   Df Model:                           57\n",
       "Link Function:                  Logit   Scale:                          1.0000\n",
       "Method:                          IRLS   Log-Likelihood:            -3.1954e+05\n",
       "Date:                Thu, 28 Jul 2022   Deviance:                   6.3908e+05\n",
       "Time:                        13:21:11   Pearson chi2:                 3.39e+16\n",
       "No. Iterations:                    20   Pseudo R-squ. (CS):             0.1591\n",
       "Covariance Type:            nonrobust                                         \n",
       "=================================================================================================\n",
       "                                    coef    std err          z      P>|z|      [0.025      0.975]\n",
       "-------------------------------------------------------------------------------------------------\n",
       "const                            -2.7063      0.229    -11.830      0.000      -3.155      -2.258\n",
       "loan_amnt                      9.947e-05   5.96e-07    166.970      0.000    9.83e-05       0.000\n",
       "int_rate                         -0.2447      0.002   -109.817      0.000      -0.249      -0.240\n",
       "annual_inc                    -3.854e-06   1.06e-07    -36.419      0.000   -4.06e-06   -3.65e-06\n",
       "delinq_2yrs                       0.0811      0.005     16.994      0.000       0.072       0.090\n",
       "open_acc                         -0.0111      0.001    -12.169      0.000      -0.013      -0.009\n",
       "pub_rec                           0.3169      0.014     21.859      0.000       0.288       0.345\n",
       "revol_bal                      2.511e-06    2.2e-07     11.427      0.000    2.08e-06    2.94e-06\n",
       "total_pymnt                      -0.0001   1.04e-06   -112.153      0.000      -0.000      -0.000\n",
       "total_rec_int                  1.766e-05   3.01e-06      5.865      0.000    1.18e-05    2.36e-05\n",
       "total_rec_late_fee                0.0201      0.000     77.139      0.000       0.020       0.021\n",
       "last_pymnt_amnt                  -0.0011    1.1e-05    -98.345      0.000      -0.001      -0.001\n",
       "collections_12_mths_ex_med       -0.0019      0.020     -0.097      0.923      -0.041       0.037\n",
       "acc_now_delinq                    0.3395      0.041      8.288      0.000       0.259       0.420\n",
       "tot_coll_amt                   3.839e-07   8.89e-07      0.432      0.666   -1.36e-06    2.13e-06\n",
       "tot_cur_bal                   -8.506e-07      4e-08    -21.248      0.000   -9.29e-07   -7.72e-07\n",
       "acc_open_past_24mths              0.0618      0.001     47.658      0.000       0.059       0.064\n",
       "chargeoff_within_12_mths          0.0015      0.031      0.048      0.962      -0.058       0.061\n",
       "delinq_amnt                    1.045e-05   3.65e-06      2.866      0.004     3.3e-06    1.76e-05\n",
       "mo_sin_old_rev_tl_op             -0.0001   3.79e-05     -3.093      0.002      -0.000    -4.3e-05\n",
       "mo_sin_rcnt_rev_tl_op            -0.0033      0.000    -11.463      0.000      -0.004      -0.003\n",
       "mo_sin_rcnt_tl                   -0.0066      0.001    -11.359      0.000      -0.008      -0.005\n",
       "mort_acc                          0.0884      0.002     36.316      0.000       0.084       0.093\n",
       "num_accts_ever_120_pd            -0.0273      0.003    -10.465      0.000      -0.032      -0.022\n",
       "num_actv_bc_tl                    0.0186      0.002     10.049      0.000       0.015       0.022\n",
       "num_il_tl                         0.0090      0.001     15.624      0.000       0.008       0.010\n",
       "num_tl_90g_dpd_24m               -0.0272      0.008     -3.262      0.001      -0.044      -0.011\n",
       "pub_rec_bankruptcies             -0.2150      0.017    -12.900      0.000      -0.248      -0.182\n",
       "tax_liens                        -0.2018      0.017    -12.131      0.000      -0.234      -0.169\n",
       "total_bal_ex_mort             -3.124e-07   1.14e-07     -2.750      0.006   -5.35e-07   -8.97e-08\n",
       "term_ 60 months                  -0.2586      0.010    -26.085      0.000      -0.278      -0.239\n",
       "grade_B                           1.7081      0.018     97.533      0.000       1.674       1.742\n",
       "grade_C                           3.1482      0.022    143.018      0.000       3.105       3.191\n",
       "grade_D                           4.5881      0.030    154.092      0.000       4.530       4.646\n",
       "grade_E                           6.2192      0.038    161.635      0.000       6.144       6.295\n",
       "grade_F                           7.8126      0.049    159.322      0.000       7.716       7.909\n",
       "grade_G                           8.7041      0.062    141.203      0.000       8.583       8.825\n",
       "home_ownership_MORTGAGE           1.0013      0.224      4.462      0.000       0.561       1.441\n",
       "home_ownership_NONE             -15.3522   1.05e+04     -0.001      0.999   -2.05e+04    2.05e+04\n",
       "home_ownership_OWN                0.9841      0.225      4.382      0.000       0.544       1.424\n",
       "home_ownership_RENT               1.1599      0.224      5.169      0.000       0.720       1.600\n",
       "purpose_credit_card               0.3284      0.038      8.620      0.000       0.254       0.403\n",
       "purpose_debt_consolidation        0.3956      0.038     10.524      0.000       0.322       0.469\n",
       "purpose_educational             -18.2265   2.04e+04     -0.001      0.999   -3.99e+04    3.99e+04\n",
       "purpose_home_improvement          0.2442      0.040      6.142      0.000       0.166       0.322\n",
       "purpose_house                    -0.2415      0.058     -4.183      0.000      -0.355      -0.128\n",
       "purpose_major_purchase            0.1568      0.044      3.593      0.000       0.071       0.242\n",
       "purpose_medical                   0.1735      0.047      3.667      0.000       0.081       0.266\n",
       "purpose_moving                    0.0973      0.053      1.845      0.065      -0.006       0.201\n",
       "purpose_other                    -0.0424      0.040     -1.071      0.284      -0.120       0.035\n",
       "purpose_renewable_energy          0.1547      0.127      1.220      0.223      -0.094       0.403\n",
       "purpose_small_business            0.4538      0.047      9.729      0.000       0.362       0.545\n",
       "purpose_vacation                 -0.1157      0.055     -2.092      0.036      -0.224      -0.007\n",
       "purpose_wedding                   0.3630      0.178      2.040      0.041       0.014       0.712\n",
       "initial_list_status_w            -0.6181      0.008    -81.175      0.000      -0.633      -0.603\n",
       "application_type_Joint App       -1.7142      0.021    -81.720      0.000      -1.755      -1.673\n",
       "disbursement_method_DirectPay    -2.6227      0.043    -61.580      0.000      -2.706      -2.539\n",
       "debt_settlement_flag_Y           13.1144      0.471     27.844      0.000      12.191      14.038\n",
       "=================================================================================================\n",
       "\"\"\""
      ]
     },
     "execution_count": 22,
     "metadata": {},
     "output_type": "execute_result"
    }
   ],
   "source": [
    "import statsmodels.api as sm\n",
    "log_mod = sm.GLM(y,sm.add_constant(X),family = sm.families.Binomial())\n",
    "log_result = log_mod.fit()\n",
    "log_result.summary()\n"
   ]
  },
  {
   "cell_type": "markdown",
   "id": "72eeb6ec",
   "metadata": {},
   "source": [
    "**note that tot_coll_amt is among RF's important variables, yet the p-value is much larger than 0.05 here. Therefore we exclude it from the var_list_name**"
   ]
  },
  {
   "cell_type": "markdown",
   "id": "91082104",
   "metadata": {},
   "source": [
    "Few of the limitations of Random forest are :\n",
    "\n",
    "- Correlated features will be given equal or similar importance, but overall reduced importance compared to the same tree built without correlated counterparts.\n",
    "- Random Forests and decision trees, in general, give preference to features with high cardinality ( Trees are biased to these type of variables ). [ The lower the cardinality, the more duplicated elements in a column.\n",
    "]"
   ]
  },
  {
   "cell_type": "code",
   "execution_count": 9,
   "id": "b7ca7ff1",
   "metadata": {},
   "outputs": [
    {
     "data": {
      "text/plain": [
       "0.0        1548464\n",
       "50.0          3242\n",
       "100.0         2733\n",
       "75.0          2038\n",
       "150.0         1589\n",
       "            ...   \n",
       "22995.0          1\n",
       "80646.0          1\n",
       "27414.0          1\n",
       "22773.0          1\n",
       "7921.0           1\n",
       "Name: tot_coll_amt, Length: 14535, dtype: int64"
      ]
     },
     "execution_count": 9,
     "metadata": {},
     "output_type": "execute_result"
    }
   ],
   "source": [
    "X['tot_coll_amt'].value_counts()"
   ]
  },
  {
   "cell_type": "markdown",
   "id": "8ed8f343",
   "metadata": {},
   "source": [
    "**tot_coll_amt has 1548464 being 0, indicating high cardinality. that's probably why it is selected in rf**"
   ]
  },
  {
   "cell_type": "markdown",
   "id": "6dd6332b",
   "metadata": {},
   "source": [
    "# RF"
   ]
  },
  {
   "cell_type": "code",
   "execution_count": 25,
   "id": "33c33ed0",
   "metadata": {},
   "outputs": [],
   "source": [
    "rf_all = RandomForestClassifier(random_state = 1)\n",
    "rf_all.fit(X,y)\n",
    "importance = pd.DataFrame({'feature':X.columns,'var_importance':rf_all.feature_importances_})\n",
    "importance = importance.sort_values('var_importance',ascending=False)\n",
    "var_list = importance[importance['var_importance'] > 0.005]\n",
    "var_list_name = var_list['feature'].tolist()\n",
    "var_list_name.remove('debt_settlement_flag_Y')\n",
    "var_list_name.remove('tot_coll_amt')\n"
   ]
  },
  {
   "cell_type": "code",
   "execution_count": 28,
   "id": "260793ff",
   "metadata": {},
   "outputs": [
    {
     "data": {
      "text/plain": [
       "['int_rate',\n",
       " 'total_pymnt',\n",
       " 'last_pymnt_amnt',\n",
       " 'total_rec_int',\n",
       " 'loan_amnt',\n",
       " 'revol_bal',\n",
       " 'tot_cur_bal',\n",
       " 'mo_sin_old_rev_tl_op',\n",
       " 'total_bal_ex_mort',\n",
       " 'annual_inc',\n",
       " 'num_il_tl',\n",
       " 'mo_sin_rcnt_rev_tl_op',\n",
       " 'open_acc',\n",
       " 'total_rec_late_fee',\n",
       " 'mo_sin_rcnt_tl',\n",
       " 'acc_open_past_24mths',\n",
       " 'num_actv_bc_tl',\n",
       " 'mort_acc',\n",
       " 'initial_list_status_w',\n",
       " 'num_accts_ever_120_pd',\n",
       " 'term_ 60 months',\n",
       " 'delinq_2yrs',\n",
       " 'grade_E',\n",
       " 'grade_D',\n",
       " 'pub_rec',\n",
       " 'grade_F',\n",
       " 'purpose_debt_consolidation']"
      ]
     },
     "execution_count": 28,
     "metadata": {},
     "output_type": "execute_result"
    }
   ],
   "source": [
    "var_list_name"
   ]
  },
  {
   "cell_type": "markdown",
   "id": "b34daed9",
   "metadata": {},
   "source": [
    "*** note xgboost also has feature importance ranking. https://mljar.com/blog/feature-importance-xgboost/***"
   ]
  },
  {
   "cell_type": "markdown",
   "id": "37458acb",
   "metadata": {},
   "source": [
    "# lasso"
   ]
  },
  {
   "cell_type": "code",
   "execution_count": 7,
   "id": "f3c2885a",
   "metadata": {},
   "outputs": [],
   "source": [
    "from sklearn.linear_model import LogisticRegression #, LogisticRegressionCV\n"
   ]
  },
  {
   "cell_type": "code",
   "execution_count": 8,
   "id": "23cdb7f3",
   "metadata": {},
   "outputs": [
    {
     "name": "stderr",
     "output_type": "stream",
     "text": [
      "/Users/ashley/opt/anaconda3/lib/python3.9/site-packages/sklearn/linear_model/_sag.py:350: ConvergenceWarning: The max_iter was reached which means the coef_ did not converge\n",
      "  warnings.warn(\n"
     ]
    },
    {
     "data": {
      "text/html": [
       "<style>#sk-container-id-1 {color: black;background-color: white;}#sk-container-id-1 pre{padding: 0;}#sk-container-id-1 div.sk-toggleable {background-color: white;}#sk-container-id-1 label.sk-toggleable__label {cursor: pointer;display: block;width: 100%;margin-bottom: 0;padding: 0.3em;box-sizing: border-box;text-align: center;}#sk-container-id-1 label.sk-toggleable__label-arrow:before {content: \"▸\";float: left;margin-right: 0.25em;color: #696969;}#sk-container-id-1 label.sk-toggleable__label-arrow:hover:before {color: black;}#sk-container-id-1 div.sk-estimator:hover label.sk-toggleable__label-arrow:before {color: black;}#sk-container-id-1 div.sk-toggleable__content {max-height: 0;max-width: 0;overflow: hidden;text-align: left;background-color: #f0f8ff;}#sk-container-id-1 div.sk-toggleable__content pre {margin: 0.2em;color: black;border-radius: 0.25em;background-color: #f0f8ff;}#sk-container-id-1 input.sk-toggleable__control:checked~div.sk-toggleable__content {max-height: 200px;max-width: 100%;overflow: auto;}#sk-container-id-1 input.sk-toggleable__control:checked~label.sk-toggleable__label-arrow:before {content: \"▾\";}#sk-container-id-1 div.sk-estimator input.sk-toggleable__control:checked~label.sk-toggleable__label {background-color: #d4ebff;}#sk-container-id-1 div.sk-label input.sk-toggleable__control:checked~label.sk-toggleable__label {background-color: #d4ebff;}#sk-container-id-1 input.sk-hidden--visually {border: 0;clip: rect(1px 1px 1px 1px);clip: rect(1px, 1px, 1px, 1px);height: 1px;margin: -1px;overflow: hidden;padding: 0;position: absolute;width: 1px;}#sk-container-id-1 div.sk-estimator {font-family: monospace;background-color: #f0f8ff;border: 1px dotted black;border-radius: 0.25em;box-sizing: border-box;margin-bottom: 0.5em;}#sk-container-id-1 div.sk-estimator:hover {background-color: #d4ebff;}#sk-container-id-1 div.sk-parallel-item::after {content: \"\";width: 100%;border-bottom: 1px solid gray;flex-grow: 1;}#sk-container-id-1 div.sk-label:hover label.sk-toggleable__label {background-color: #d4ebff;}#sk-container-id-1 div.sk-serial::before {content: \"\";position: absolute;border-left: 1px solid gray;box-sizing: border-box;top: 0;bottom: 0;left: 50%;z-index: 0;}#sk-container-id-1 div.sk-serial {display: flex;flex-direction: column;align-items: center;background-color: white;padding-right: 0.2em;padding-left: 0.2em;position: relative;}#sk-container-id-1 div.sk-item {position: relative;z-index: 1;}#sk-container-id-1 div.sk-parallel {display: flex;align-items: stretch;justify-content: center;background-color: white;position: relative;}#sk-container-id-1 div.sk-item::before, #sk-container-id-1 div.sk-parallel-item::before {content: \"\";position: absolute;border-left: 1px solid gray;box-sizing: border-box;top: 0;bottom: 0;left: 50%;z-index: -1;}#sk-container-id-1 div.sk-parallel-item {display: flex;flex-direction: column;z-index: 1;position: relative;background-color: white;}#sk-container-id-1 div.sk-parallel-item:first-child::after {align-self: flex-end;width: 50%;}#sk-container-id-1 div.sk-parallel-item:last-child::after {align-self: flex-start;width: 50%;}#sk-container-id-1 div.sk-parallel-item:only-child::after {width: 0;}#sk-container-id-1 div.sk-dashed-wrapped {border: 1px dashed gray;margin: 0 0.4em 0.5em 0.4em;box-sizing: border-box;padding-bottom: 0.4em;background-color: white;}#sk-container-id-1 div.sk-label label {font-family: monospace;font-weight: bold;display: inline-block;line-height: 1.2em;}#sk-container-id-1 div.sk-label-container {text-align: center;}#sk-container-id-1 div.sk-container {/* jupyter's `normalize.less` sets `[hidden] { display: none; }` but bootstrap.min.css set `[hidden] { display: none !important; }` so we also need the `!important` here to be able to override the default hidden behavior on the sphinx rendered scikit-learn.org. See: https://github.com/scikit-learn/scikit-learn/issues/21755 */display: inline-block !important;position: relative;}#sk-container-id-1 div.sk-text-repr-fallback {display: none;}</style><div id=\"sk-container-id-1\" class=\"sk-top-container\"><div class=\"sk-text-repr-fallback\"><pre>LogisticRegression(C=1e+42, penalty=&#x27;l1&#x27;, solver=&#x27;saga&#x27;)</pre><b>In a Jupyter environment, please rerun this cell to show the HTML representation or trust the notebook. <br />On GitHub, the HTML representation is unable to render, please try loading this page with nbviewer.org.</b></div><div class=\"sk-container\" hidden><div class=\"sk-item\"><div class=\"sk-estimator sk-toggleable\"><input class=\"sk-toggleable__control sk-hidden--visually\" id=\"sk-estimator-id-1\" type=\"checkbox\" checked><label for=\"sk-estimator-id-1\" class=\"sk-toggleable__label sk-toggleable__label-arrow\">LogisticRegression</label><div class=\"sk-toggleable__content\"><pre>LogisticRegression(C=1e+42, penalty=&#x27;l1&#x27;, solver=&#x27;saga&#x27;)</pre></div></div></div></div></div>"
      ],
      "text/plain": [
       "LogisticRegression(C=1e+42, penalty='l1', solver='saga')"
      ]
     },
     "execution_count": 8,
     "metadata": {},
     "output_type": "execute_result"
    }
   ],
   "source": [
    "logit_reg = LogisticRegression(penalty='l1', C=1e42, solver='saga')\n",
    "logit_reg.fit(X, y)"
   ]
  },
  {
   "cell_type": "code",
   "execution_count": 27,
   "id": "95530922",
   "metadata": {},
   "outputs": [
    {
     "data": {
      "text/plain": [
       "<AxesSubplot:>"
      ]
     },
     "execution_count": 27,
     "metadata": {},
     "output_type": "execute_result"
    },
    {
     "data": {
      "image/png": "[encoded data removed]",
      "text/plain": [
       "<Figure size 432x288 with 1 Axes>"
      ]
     },
     "metadata": {
      "needs_background": "light"
     },
     "output_type": "display_data"
    }
   ],
   "source": [
    "pd.sort_values('coeff',inplace = True)\n",
    "pd.plot.bar()"
   ]
  },
  {
   "cell_type": "code",
   "execution_count": 28,
   "id": "922508bb",
   "metadata": {},
   "outputs": [
    {
     "data": {
      "text/html": [
       "<div>\n",
       "<style scoped>\n",
       "    .dataframe tbody tr th:only-of-type {\n",
       "        vertical-align: middle;\n",
       "    }\n",
       "\n",
       "    .dataframe tbody tr th {\n",
       "        vertical-align: top;\n",
       "    }\n",
       "\n",
       "    .dataframe thead th {\n",
       "        text-align: right;\n",
       "    }\n",
       "</style>\n",
       "<table border=\"1\" class=\"dataframe\">\n",
       "  <thead>\n",
       "    <tr style=\"text-align: right;\">\n",
       "      <th></th>\n",
       "      <th>coeff</th>\n",
       "    </tr>\n",
       "  </thead>\n",
       "  <tbody>\n",
       "    <tr>\n",
       "      <th>annual_inc</th>\n",
       "      <td>-2.681528e-05</td>\n",
       "    </tr>\n",
       "    <tr>\n",
       "      <th>total_pymnt</th>\n",
       "      <td>-1.370895e-05</td>\n",
       "    </tr>\n",
       "    <tr>\n",
       "      <th>last_pymnt_amnt</th>\n",
       "      <td>-7.705470e-06</td>\n",
       "    </tr>\n",
       "    <tr>\n",
       "      <th>loan_amnt</th>\n",
       "      <td>-6.718616e-06</td>\n",
       "    </tr>\n",
       "    <tr>\n",
       "      <th>revol_bal</th>\n",
       "      <td>-4.065737e-06</td>\n",
       "    </tr>\n",
       "    <tr>\n",
       "      <th>total_bal_ex_mort</th>\n",
       "      <td>-3.905216e-06</td>\n",
       "    </tr>\n",
       "    <tr>\n",
       "      <th>total_rec_int</th>\n",
       "      <td>-4.916311e-07</td>\n",
       "    </tr>\n",
       "    <tr>\n",
       "      <th>tot_coll_amt</th>\n",
       "      <td>-3.168706e-07</td>\n",
       "    </tr>\n",
       "    <tr>\n",
       "      <th>tot_cur_bal</th>\n",
       "      <td>-2.687971e-07</td>\n",
       "    </tr>\n",
       "    <tr>\n",
       "      <th>mo_sin_old_rev_tl_op</th>\n",
       "      <td>-2.212038e-07</td>\n",
       "    </tr>\n",
       "  </tbody>\n",
       "</table>\n",
       "</div>"
      ],
      "text/plain": [
       "                             coeff\n",
       "annual_inc           -2.681528e-05\n",
       "total_pymnt          -1.370895e-05\n",
       "last_pymnt_amnt      -7.705470e-06\n",
       "loan_amnt            -6.718616e-06\n",
       "revol_bal            -4.065737e-06\n",
       "total_bal_ex_mort    -3.905216e-06\n",
       "total_rec_int        -4.916311e-07\n",
       "tot_coll_amt         -3.168706e-07\n",
       "tot_cur_bal          -2.687971e-07\n",
       "mo_sin_old_rev_tl_op -2.212038e-07"
      ]
     },
     "execution_count": 28,
     "metadata": {},
     "output_type": "execute_result"
    }
   ],
   "source": [
    "# pd.DataFrame({'coeff': logit_reg.coef_[0]}, \n",
    "#              index=X.columns)\n",
    "pd.head(10)"
   ]
  },
  {
   "cell_type": "markdown",
   "id": "96caebd8",
   "metadata": {},
   "source": [
    "All included in rf"
   ]
  },
  {
   "cell_type": "code",
   "execution_count": 29,
   "id": "c3a774c4",
   "metadata": {},
   "outputs": [],
   "source": [
    "from sklearn.linear_model import LinearRegression, RidgeCV, LassoCV, ElasticNetCV\n"
   ]
  },
  {
   "cell_type": "markdown",
   "id": "da76a112",
   "metadata": {},
   "source": [
    "## LASSOCV for binary class label does not work, use logistc regression with l1 penalty"
   ]
  },
  {
   "cell_type": "code",
   "execution_count": 10,
   "id": "2a123dce",
   "metadata": {},
   "outputs": [],
   "source": [
    "# lasso = LassoCV(normalize=True, tol=1e-2,max_iter=4000) ## Create a list of alphas to cross-validate against\n",
    "# las_mod = lasso.fit(X,y)"
   ]
  },
  {
   "cell_type": "markdown",
   "id": "58c2f303",
   "metadata": {},
   "source": [
    "# fit to default XGBoost, see train&test error"
   ]
  },
  {
   "cell_type": "code",
   "execution_count": 39,
   "id": "ce1ab8c1",
   "metadata": {},
   "outputs": [
    {
     "name": "stdout",
     "output_type": "stream",
     "text": [
      "0.02624957241568037\n",
      "0.027611685024286788\n"
     ]
    }
   ],
   "source": [
    "df_clean = X[var_list_name] # X\n",
    "y = df['status'] # y\n",
    "train_x,test_x,train_y,test_y = train_test_split(df_clean,y,test_size=0.2)\n",
    "xgb_default = XGBClassifier(objective = 'binary:logistic')\n",
    "xgb_default.fit(train_x,train_y)\n",
    "pred_default_train = xgb_default.predict_proba(train_x)[:,1]\n",
    "pred_default_test = xgb_default.predict_proba(test_x)[:,1]\n",
    "pred_default_train_actual = xgb_default.predict(train_x)\n",
    "pred_default_test_actual = xgb_default.predict(test_x)\n",
    "print(np.mean(pred_default_train_actual != train_y))\n",
    "print(np.mean(pred_default_test_actual != test_y))"
   ]
  },
  {
   "cell_type": "markdown",
   "id": "f20bbadf",
   "metadata": {},
   "source": [
    "# fit to refined XGBoost model"
   ]
  },
  {
   "cell_type": "code",
   "execution_count": 61,
   "id": "26302f41",
   "metadata": {},
   "outputs": [
    {
     "name": "stdout",
     "output_type": "stream",
     "text": [
      "0.02162824108914278\n",
      "0.023651912157077376\n"
     ]
    }
   ],
   "source": [
    "df_clean = X[var_list_name] # X\n",
    "y = df['status'] # y\n",
    "train_x,test_x,train_y,test_y = train_test_split(df_clean,y,test_size=0.2)\n",
    "xgb_default = XGBClassifier(objective = 'binary:logistic', n_estimators=450, max_depth=6,\n",
    "                             learning_rate=0.1)\n",
    "xgb_default.fit(train_x,train_y)\n",
    "pred_default_train = xgb_default.predict_proba(train_x)[:,1]\n",
    "pred_default_test = xgb_default.predict_proba(test_x)[:,1]\n",
    "pred_default_train_actual = xgb_default.predict(train_x)\n",
    "pred_default_test_actual = xgb_default.predict(test_x)\n",
    "print(np.mean(pred_default_train_actual != train_y))\n",
    "print(np.mean(pred_default_test_actual != test_y))"
   ]
  },
  {
   "cell_type": "markdown",
   "id": "2568c85e",
   "metadata": {},
   "source": [
    "# best"
   ]
  },
  {
   "cell_type": "code",
   "execution_count": 62,
   "id": "aa5f7aa6",
   "metadata": {},
   "outputs": [
    {
     "name": "stdout",
     "output_type": "stream",
     "text": [
      "0.011401108298556475\n",
      "0.015319148936170212\n"
     ]
    }
   ],
   "source": [
    "df_clean = X[var_list_name] # X\n",
    "y = df['status'] # y\n",
    "train_x,test_x,train_y,test_y = train_test_split(df_clean,y,test_size=0.2)\n",
    "xgb_default = XGBClassifier(objective = 'binary:logistic', n_estimators=550, max_depth=8,\n",
    "                             learning_rate=0.1)\n",
    "xgb_default.fit(train_x,train_y)\n",
    "pred_default_train = xgb_default.predict_proba(train_x)[:,1]\n",
    "pred_default_test = xgb_default.predict_proba(test_x)[:,1]\n",
    "pred_default_train_actual = xgb_default.predict(train_x)\n",
    "pred_default_test_actual = xgb_default.predict(test_x)\n",
    "print(np.mean(pred_default_train_actual != train_y))\n",
    "print(np.mean(pred_default_test_actual != test_y))"
   ]
  },
  {
   "cell_type": "code",
   "execution_count": null,
   "id": "b8a2b7db",
   "metadata": {},
   "outputs": [],
   "source": []
  },
  {
   "cell_type": "markdown",
   "id": "c27afc07",
   "metadata": {},
   "source": [
    "# making test into the correct shape"
   ]
  },
  {
   "cell_type": "code",
   "execution_count": 40,
   "id": "b9d01555",
   "metadata": {},
   "outputs": [],
   "source": [
    "test_data_given = pd.read_csv('updated_test_data_20200728.csv')\n",
    "drop_2 = criteria_col[criteria_col.values == False].index.tolist()\n",
    "to_drop_test = to_drop +drop_2+['index','out_prncp','recoveries','issue_d','verification_status','pymnt_plan','earliest_cr_line','last_credit_pull_d',\n",
    "                   'hardship_flag',\n",
    "                   'sub_grade','addr_state','policy_code']\n",
    "test_data_given.drop(test_data_given[to_drop_test],axis = 1,inplace = True)\n",
    "X2 = pd.get_dummies(test_data_given.loc[:,test_data_given.columns != 'status'],drop_first=True)\n",
    "X_final = X2[var_list_name]\n"
   ]
  },
  {
   "cell_type": "code",
   "execution_count": 43,
   "id": "4390fc4b",
   "metadata": {},
   "outputs": [],
   "source": [
    "for i in df_clean.columns:\n",
    "    if i not in X_final.columns:\n",
    "        print(i)"
   ]
  },
  {
   "cell_type": "code",
   "execution_count": 44,
   "id": "d10cdf2e",
   "metadata": {},
   "outputs": [
    {
     "data": {
      "text/plain": [
       "(1827125, 27)"
      ]
     },
     "execution_count": 44,
     "metadata": {},
     "output_type": "execute_result"
    }
   ],
   "source": [
    "df_clean.shape"
   ]
  },
  {
   "cell_type": "code",
   "execution_count": 42,
   "id": "5095b172",
   "metadata": {},
   "outputs": [
    {
     "data": {
      "text/plain": [
       "(211627, 27)"
      ]
     },
     "execution_count": 42,
     "metadata": {},
     "output_type": "execute_result"
    }
   ],
   "source": [
    "X_final.shape"
   ]
  },
  {
   "cell_type": "markdown",
   "id": "39862d9c",
   "metadata": {},
   "source": [
    "# fit default"
   ]
  },
  {
   "cell_type": "code",
   "execution_count": 73,
   "id": "fcff8f0c",
   "metadata": {},
   "outputs": [
    {
     "data": {
      "text/html": [
       "<style>#sk-container-id-1 {color: black;background-color: white;}#sk-container-id-1 pre{padding: 0;}#sk-container-id-1 div.sk-toggleable {background-color: white;}#sk-container-id-1 label.sk-toggleable__label {cursor: pointer;display: block;width: 100%;margin-bottom: 0;padding: 0.3em;box-sizing: border-box;text-align: center;}#sk-container-id-1 label.sk-toggleable__label-arrow:before {content: \"▸\";float: left;margin-right: 0.25em;color: #696969;}#sk-container-id-1 label.sk-toggleable__label-arrow:hover:before {color: black;}#sk-container-id-1 div.sk-estimator:hover label.sk-toggleable__label-arrow:before {color: black;}#sk-container-id-1 div.sk-toggleable__content {max-height: 0;max-width: 0;overflow: hidden;text-align: left;background-color: #f0f8ff;}#sk-container-id-1 div.sk-toggleable__content pre {margin: 0.2em;color: black;border-radius: 0.25em;background-color: #f0f8ff;}#sk-container-id-1 input.sk-toggleable__control:checked~div.sk-toggleable__content {max-height: 200px;max-width: 100%;overflow: auto;}#sk-container-id-1 input.sk-toggleable__control:checked~label.sk-toggleable__label-arrow:before {content: \"▾\";}#sk-container-id-1 div.sk-estimator input.sk-toggleable__control:checked~label.sk-toggleable__label {background-color: #d4ebff;}#sk-container-id-1 div.sk-label input.sk-toggleable__control:checked~label.sk-toggleable__label {background-color: #d4ebff;}#sk-container-id-1 input.sk-hidden--visually {border: 0;clip: rect(1px 1px 1px 1px);clip: rect(1px, 1px, 1px, 1px);height: 1px;margin: -1px;overflow: hidden;padding: 0;position: absolute;width: 1px;}#sk-container-id-1 div.sk-estimator {font-family: monospace;background-color: #f0f8ff;border: 1px dotted black;border-radius: 0.25em;box-sizing: border-box;margin-bottom: 0.5em;}#sk-container-id-1 div.sk-estimator:hover {background-color: #d4ebff;}#sk-container-id-1 div.sk-parallel-item::after {content: \"\";width: 100%;border-bottom: 1px solid gray;flex-grow: 1;}#sk-container-id-1 div.sk-label:hover label.sk-toggleable__label {background-color: #d4ebff;}#sk-container-id-1 div.sk-serial::before {content: \"\";position: absolute;border-left: 1px solid gray;box-sizing: border-box;top: 0;bottom: 0;left: 50%;z-index: 0;}#sk-container-id-1 div.sk-serial {display: flex;flex-direction: column;align-items: center;background-color: white;padding-right: 0.2em;padding-left: 0.2em;position: relative;}#sk-container-id-1 div.sk-item {position: relative;z-index: 1;}#sk-container-id-1 div.sk-parallel {display: flex;align-items: stretch;justify-content: center;background-color: white;position: relative;}#sk-container-id-1 div.sk-item::before, #sk-container-id-1 div.sk-parallel-item::before {content: \"\";position: absolute;border-left: 1px solid gray;box-sizing: border-box;top: 0;bottom: 0;left: 50%;z-index: -1;}#sk-container-id-1 div.sk-parallel-item {display: flex;flex-direction: column;z-index: 1;position: relative;background-color: white;}#sk-container-id-1 div.sk-parallel-item:first-child::after {align-self: flex-end;width: 50%;}#sk-container-id-1 div.sk-parallel-item:last-child::after {align-self: flex-start;width: 50%;}#sk-container-id-1 div.sk-parallel-item:only-child::after {width: 0;}#sk-container-id-1 div.sk-dashed-wrapped {border: 1px dashed gray;margin: 0 0.4em 0.5em 0.4em;box-sizing: border-box;padding-bottom: 0.4em;background-color: white;}#sk-container-id-1 div.sk-label label {font-family: monospace;font-weight: bold;display: inline-block;line-height: 1.2em;}#sk-container-id-1 div.sk-label-container {text-align: center;}#sk-container-id-1 div.sk-container {/* jupyter's `normalize.less` sets `[hidden] { display: none; }` but bootstrap.min.css set `[hidden] { display: none !important; }` so we also need the `!important` here to be able to override the default hidden behavior on the sphinx rendered scikit-learn.org. See: https://github.com/scikit-learn/scikit-learn/issues/21755 */display: inline-block !important;position: relative;}#sk-container-id-1 div.sk-text-repr-fallback {display: none;}</style><div id=\"sk-container-id-1\" class=\"sk-top-container\"><div class=\"sk-text-repr-fallback\"><pre>XGBClassifier(base_score=0.5, booster=&#x27;gbtree&#x27;, callbacks=None,\n",
       "              colsample_bylevel=1, colsample_bynode=1, colsample_bytree=1,\n",
       "              early_stopping_rounds=None, enable_categorical=False,\n",
       "              eval_metric=None, gamma=0, gpu_id=-1, grow_policy=&#x27;depthwise&#x27;,\n",
       "              importance_type=None, interaction_constraints=&#x27;&#x27;,\n",
       "              learning_rate=0.1, max_bin=256, max_cat_to_onehot=4,\n",
       "              max_delta_step=0, max_depth=8, max_leaves=0, min_child_weight=1,\n",
       "              missing=nan, monotone_constraints=&#x27;()&#x27;, n_estimators=550,\n",
       "              n_jobs=0, num_parallel_tree=1, predictor=&#x27;auto&#x27;, random_state=0,\n",
       "              reg_alpha=0, reg_lambda=1, ...)</pre><b>In a Jupyter environment, please rerun this cell to show the HTML representation or trust the notebook. <br />On GitHub, the HTML representation is unable to render, please try loading this page with nbviewer.org.</b></div><div class=\"sk-container\" hidden><div class=\"sk-item\"><div class=\"sk-estimator sk-toggleable\"><input class=\"sk-toggleable__control sk-hidden--visually\" id=\"sk-estimator-id-1\" type=\"checkbox\" checked><label for=\"sk-estimator-id-1\" class=\"sk-toggleable__label sk-toggleable__label-arrow\">XGBClassifier</label><div class=\"sk-toggleable__content\"><pre>XGBClassifier(base_score=0.5, booster=&#x27;gbtree&#x27;, callbacks=None,\n",
       "              colsample_bylevel=1, colsample_bynode=1, colsample_bytree=1,\n",
       "              early_stopping_rounds=None, enable_categorical=False,\n",
       "              eval_metric=None, gamma=0, gpu_id=-1, grow_policy=&#x27;depthwise&#x27;,\n",
       "              importance_type=None, interaction_constraints=&#x27;&#x27;,\n",
       "              learning_rate=0.1, max_bin=256, max_cat_to_onehot=4,\n",
       "              max_delta_step=0, max_depth=8, max_leaves=0, min_child_weight=1,\n",
       "              missing=nan, monotone_constraints=&#x27;()&#x27;, n_estimators=550,\n",
       "              n_jobs=0, num_parallel_tree=1, predictor=&#x27;auto&#x27;, random_state=0,\n",
       "              reg_alpha=0, reg_lambda=1, ...)</pre></div></div></div></div></div>"
      ],
      "text/plain": [
       "XGBClassifier(base_score=0.5, booster='gbtree', callbacks=None,\n",
       "              colsample_bylevel=1, colsample_bynode=1, colsample_bytree=1,\n",
       "              early_stopping_rounds=None, enable_categorical=False,\n",
       "              eval_metric=None, gamma=0, gpu_id=-1, grow_policy='depthwise',\n",
       "              importance_type=None, interaction_constraints='',\n",
       "              learning_rate=0.1, max_bin=256, max_cat_to_onehot=4,\n",
       "              max_delta_step=0, max_depth=8, max_leaves=0, min_child_weight=1,\n",
       "              missing=nan, monotone_constraints='()', n_estimators=550,\n",
       "              n_jobs=0, num_parallel_tree=1, predictor='auto', random_state=0,\n",
       "              reg_alpha=0, reg_lambda=1, ...)"
      ]
     },
     "execution_count": 73,
     "metadata": {},
     "output_type": "execute_result"
    }
   ],
   "source": [
    "xgb_default"
   ]
  },
  {
   "cell_type": "code",
   "execution_count": 70,
   "id": "b64b7731",
   "metadata": {},
   "outputs": [
    {
     "data": {
      "text/plain": [
       "(array([0, 1]), array([191699,  19928]))"
      ]
     },
     "execution_count": 70,
     "metadata": {},
     "output_type": "execute_result"
    }
   ],
   "source": [
    "#xgb_default = XGBClassifier(objective = 'binary:logistic')\n",
    "xgb_default.fit(df_clean,y)\n",
    "pred_submit = xgb_default.predict(X_final)\n",
    "np.unique(pred_submit,return_counts = True) # charged-off rate = 7.6%"
   ]
  },
  {
   "cell_type": "code",
   "execution_count": 71,
   "id": "a57f43e1",
   "metadata": {},
   "outputs": [],
   "source": [
    "submit = pd.DataFrame(pred_submit,columns = ['prediction_score'])\n",
    "submit.reset_index(inplace = True)\n",
    "submission = submit.to_csv('refined_xgb_mod.csv')"
   ]
  },
  {
   "cell_type": "markdown",
   "id": "981bff43",
   "metadata": {},
   "source": [
    "## the parameter can be used for up/down sampling: scale_pos_weight [default=1]\n",
    "\n",
    "Control the balance of positive and negative weights, useful for unbalanced classes. A typical value to consider: sum(negative instances) / sum(positive instances)"
   ]
  },
  {
   "cell_type": "markdown",
   "id": "23cf008a",
   "metadata": {},
   "source": [
    "# tune model: k fold where k = 2 to slow tho"
   ]
  },
  {
   "cell_type": "markdown",
   "id": "5224a831",
   "metadata": {},
   "source": [
    "***subsample, n_estimators, max_depth, reg_lambda, learning rate, colsample_bytree***"
   ]
  },
  {
   "cell_type": "markdown",
   "id": "1c21f4f3",
   "metadata": {},
   "source": [
    "train learning rate(eta) and max_depth first"
   ]
  },
  {
   "cell_type": "code",
   "execution_count": 58,
   "id": "e8b4a40b",
   "metadata": {},
   "outputs": [],
   "source": [
    "# idx = np.random.choice(range(2),size = len(X),replace = True)\n",
    "# error = []\n",
    "# for eta,max_dep in product([0.1, 0.5, 0.9],[3, 6, 9]):\n",
    "#     xgb = XGBClassifier(objective = 'binary:logistic',learning_rate = eta, max_depth = max_dep,n_estimators=100)\n",
    "#     cv_error = []\n",
    "#     for k in range(2):\n",
    "#         fold_idx = idx == k\n",
    "#         train_X = X.loc[~fold_idx]; train_y = y[~fold_idx]\n",
    "#         test_X = X.loc[fold_idx]; test_y = y[fold_idx]\n",
    "        \n",
    "#         xgb.fit(train_X,train_y)\n",
    "#         pred = xgb.predict_proba(test_X)[:,1]\n",
    "#         cv_error.append(np.mean(abs(test_y - pred) > 0.5))\n",
    "#     error.append({'eta':eta,'max_dep':max_dep,'avg_error':np.mean(cv_error)})\n",
    "#     print(error[-1])\n",
    "# errors = pd.DataFrame(error)\n",
    "# errors"
   ]
  },
  {
   "cell_type": "markdown",
   "id": "50af6192",
   "metadata": {},
   "source": [
    "# tune predict ntree_limit"
   ]
  },
  {
   "cell_type": "code",
   "execution_count": 67,
   "id": "98789efd",
   "metadata": {},
   "outputs": [
    {
     "name": "stdout",
     "output_type": "stream",
     "text": [
      "   iterations  default train  default test\n",
      "0           1       0.064984      0.064941\n",
      "1           2       0.064537      0.064413\n",
      "2           3       0.064449      0.064303\n",
      "3           4       0.064298      0.064101\n",
      "4           5       0.063859      0.063668\n"
     ]
    }
   ],
   "source": [
    "results = []\n",
    "for ntree_limit in range(1, 250):\n",
    "    train_default = xgb_default.predict_proba(train_x, ntree_limit=ntree_limit)[:, 1]\n",
    "    #train_penalty = xgb_penalty.predict_proba(train_x, ntree_limit=ntree_limit)[:, 1]\n",
    "    pred_default = xgb_default.predict_proba(test_x, ntree_limit=ntree_limit)[:, 1]\n",
    "    #pred_penalty = xgb_penalty.predict_proba(test_X, ntree_limit=ntree_limit)[:, 1]\n",
    "    results.append({\n",
    "        'iterations': ntree_limit,\n",
    "        'default train': np.mean(abs(train_y - train_default) > 0.5),\n",
    "        #'penalty train': np.mean(abs(train_y - train_penalty) > 0.5),\n",
    "        'default test': np.mean(abs(test_y - pred_default) > 0.5),\n",
    "        #'penalty test': np.mean(abs(valid_y - pred_penalty) > 0.5),\n",
    "    })\n",
    "\n",
    "results = pd.DataFrame(results)\n",
    "print(results.head())"
   ]
  },
  {
   "cell_type": "code",
   "execution_count": 69,
   "id": "4582d7b2",
   "metadata": {},
   "outputs": [
    {
     "data": {
      "image/png": "[encoded data removed]",
      "text/plain": [
       "<Figure size 432x288 with 1 Axes>"
      ]
     },
     "metadata": {
      "needs_background": "light"
     },
     "output_type": "display_data"
    }
   ],
   "source": [
    "ax = results.plot(x='iterations', y='default test')\n",
    "#results.plot(x='iterations', y='penalty test', ax=ax)\n",
    "results.plot(x='iterations', y='default train', ax=ax)\n",
    "#results.plot(x='iterations', y='penalty train', ax=ax)\n",
    "plt.show()"
   ]
  },
  {
   "cell_type": "code",
   "execution_count": 63,
   "id": "f3630493",
   "metadata": {},
   "outputs": [
    {
     "name": "stderr",
     "output_type": "stream",
     "text": [
      "/Users/ashley/opt/anaconda3/lib/python3.9/site-packages/xgboost/core.py:90: UserWarning: ntree_limit is deprecated, use `iteration_range` or model slicing instead.\n",
      "  warnings.warn(\n"
     ]
    },
    {
     "data": {
      "text/plain": [
       "array([1, 0, 0, ..., 0, 0, 0])"
      ]
     },
     "execution_count": 63,
     "metadata": {},
     "output_type": "execute_result"
    }
   ],
   "source": [
    "xgb_default.predict(X_final,ntree_limit = 2)"
   ]
  }
 ],
 "metadata": {
  "kernelspec": {
   "display_name": "Python 3 (ipykernel)",
   "language": "python",
   "name": "python3"
  },
  "language_info": {
   "codemirror_mode": {
    "name": "ipython",
    "version": 3
   },
   "file_extension": ".py",
   "mimetype": "text/x-python",
   "name": "python",
   "nbconvert_exporter": "python",
   "pygments_lexer": "ipython3",
   "version": "3.9.7"
  }
 },
 "nbformat": 4,
 "nbformat_minor": 5
}
