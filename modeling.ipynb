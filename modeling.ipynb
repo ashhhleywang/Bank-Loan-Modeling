{
 "cells": [
  {
   "cell_type": "code",
   "execution_count": null,
   "id": "2bb2379b",
   "metadata": {},
   "outputs": [],
   "source": [
    "import math\n",
    "import os\n",
    "import random\n",
    "from pathlib import Path\n",
    "from collections import defaultdict\n",
    "from itertools import product\n",
    "\n",
    "from graphviz import Digraph\n",
    "\n",
    "import pandas as pd\n",
    "import numpy as np\n",
    "\n",
    "from sklearn import preprocessing\n",
    "from sklearn import metrics\n",
    "from sklearn.model_selection import train_test_split\n",
    "from sklearn.tree import DecisionTreeClassifier\n",
    "from sklearn.ensemble import RandomForestClassifier\n",
    "\n",
    "from xgboost import XGBClassifier\n",
    "\n",
    "import pydotplus\n",
    "from dmba import plotDecisionTree, textDecisionTree\n",
    "\n",
    "import seaborn as sns\n",
    "import matplotlib.pyplot as plt\n",
    "from matplotlib.patches import Ellipse\n",
    "\n",
    "%matplotlib inline"
   ]
  },
  {
   "cell_type": "code",
   "execution_count": null,
   "id": "04f343f2",
   "metadata": {},
   "outputs": [],
   "source": [
    "DATA = Path('.').resolve().parents[1] / 'capstone/project_submission'\n",
    "raw_df_path = DATA / 'train_data.csv'\n",
    "raw_df = pd.read_csv(raw_df_path)"
   ]
  },
  {
   "cell_type": "markdown",
   "id": "33f7a9fe",
   "metadata": {},
   "source": [
    "# Tune the model"
   ]
  },
  {
   "cell_type": "markdown",
   "id": "766f45ac",
   "metadata": {},
   "source": [
    "**if we don't aim to analyze the variables' relationship with the target and are only interested in accurate prediction result, we can also apply PCA by feeding the PC values to the xgboost model**\n",
    "https://www.kaggle.com/code/wongguoxuan/eda-pca-xgboost-classifier-for-beginners/notebook\n"
   ]
  },
  {
   "cell_type": "code",
   "execution_count": null,
   "id": "1c1a677d",
   "metadata": {},
   "outputs": [],
   "source": []
  },
  {
   "cell_type": "markdown",
   "id": "d7742f59",
   "metadata": {},
   "source": [
    "# load in test data"
   ]
  },
  {
   "cell_type": "code",
   "execution_count": null,
   "id": "44ef22eb",
   "metadata": {},
   "outputs": [],
   "source": [
    "test_data_given = pd.read_csv('updated_test_data_20200728.csv')\n",
    "test_data_given['loan_status']"
   ]
  }
 ],
 "metadata": {
  "kernelspec": {
   "display_name": "Python 3 (ipykernel)",
   "language": "python",
   "name": "python3"
  },
  "language_info": {
   "codemirror_mode": {
    "name": "ipython",
    "version": 3
   },
   "file_extension": ".py",
   "mimetype": "text/x-python",
   "name": "python",
   "nbconvert_exporter": "python",
   "pygments_lexer": "ipython3",
   "version": "3.9.7"
  }
 },
 "nbformat": 4,
 "nbformat_minor": 5
}
